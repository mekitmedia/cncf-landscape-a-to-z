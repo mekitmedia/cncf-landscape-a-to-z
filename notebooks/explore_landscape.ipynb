{
 "cells": [
  {
   "cell_type": "code",
   "execution_count": 3,
   "metadata": {},
   "outputs": [],
   "source": [
    "import yaml\n",
    "import requests\n",
    "import os\n",
    "from pathlib import Path"
   ]
  },
  {
   "cell_type": "markdown",
   "metadata": {},
   "source": [
    "## Getting the data\n",
    "\n",
    "Simply loading the data from the repo and load the yaml in memory. There are two version of the landscape. One light version with the crunchbase link and one with all the data extracted."
   ]
  },
  {
   "cell_type": "code",
   "execution_count": 4,
   "metadata": {},
   "outputs": [],
   "source": [
    "landscape_raw = requests.get(\"https://raw.githubusercontent.com/cncf/landscape/master/processed_landscape.yml\")"
   ]
  },
  {
   "cell_type": "code",
   "execution_count": 5,
   "metadata": {},
   "outputs": [],
   "source": [
    "landscape = yaml.safe_load(landscape_raw.content)['landscape']"
   ]
  },
  {
   "cell_type": "markdown",
   "metadata": {},
   "source": [
    "## Parsing the categories\n",
    "\n",
    "The file is quite big it take 30s to laod an loop. To make future processing faster I will break it down as small as possible. One folder per weeks plus one subfolder per sucategory.\n",
    "\n",
    "At the same time it is nice to have some index to explore what is out there."
   ]
  },
  {
   "cell_type": "code",
   "execution_count": 6,
   "metadata": {},
   "outputs": [],
   "source": [
    "def make_path(c, s):\n",
    "    \"\"\"Sanitize category and subcategory name to make them viable folder names\"\"\"\n",
    "    return (c+ \"_\" +s).lower() \\\n",
    "            .replace(\" & \", \"_\") \\\n",
    "            .replace(\" \", \"_\") \\\n",
    "            .replace(\"_-\",\"\") \\\n",
    "            .replace(\",\",\"\") \\\n",
    "            .replace(\"/\", \"_\")"
   ]
  },
  {
   "cell_type": "code",
   "execution_count": 7,
   "metadata": {},
   "outputs": [
    {
     "data": {
      "text/plain": [
       "{'Provisioning': {'Automation & Configuration': 'provisioning_automation_configuration',\n",
       "  'Container Registry': 'provisioning_container_registry',\n",
       "  'Security & Compliance': 'provisioning_security_compliance',\n",
       "  'Key Management': 'provisioning_key_management'},\n",
       " 'Runtime': {'Cloud Native Storage': 'runtime_cloud_native_storage',\n",
       "  'Container Runtime': 'runtime_container_runtime',\n",
       "  'Cloud Native Network': 'runtime_cloud_native_network'},\n",
       " 'Orchestration & Management': {'Scheduling & Orchestration': 'orchestration_management_scheduling_orchestration',\n",
       "  'Coordination & Service Discovery': 'orchestration_management_coordination_service_discovery',\n",
       "  'Remote Procedure Call': 'orchestration_management_remote_procedure_call',\n",
       "  'Service Proxy': 'orchestration_management_service_proxy',\n",
       "  'API Gateway': 'orchestration_management_api_gateway',\n",
       "  'Service Mesh': 'orchestration_management_service_mesh'},\n",
       " 'App Definition and Development': {'Database': 'app_definition_and_development_database',\n",
       "  'Streaming & Messaging': 'app_definition_and_development_streaming_messaging',\n",
       "  'Application Definition & Image Build': 'app_definition_and_development_application_definition_image_build',\n",
       "  'Continuous Integration & Delivery': 'app_definition_and_development_continuous_integration_delivery'},\n",
       " 'Platform': {'Certified Kubernetes - Distribution': 'platform_certified_kubernetes_distribution',\n",
       "  'Certified Kubernetes - Hosted': 'platform_certified_kubernetes_hosted',\n",
       "  'Certified Kubernetes - Installer': 'platform_certified_kubernetes_installer',\n",
       "  'PaaS/Container Service': 'platform_paas_container_service'},\n",
       " 'Serverless': {'Security': 'serverless_security',\n",
       "  'Tools': 'serverless_tools',\n",
       "  'Framework': 'serverless_framework',\n",
       "  'Hosted Platform': 'serverless_hosted_platform',\n",
       "  'Installable Platform': 'serverless_installable_platform'},\n",
       " 'Observability and Analysis': {'Monitoring': 'observability_and_analysis_monitoring',\n",
       "  'Logging': 'observability_and_analysis_logging',\n",
       "  'Tracing': 'observability_and_analysis_tracing',\n",
       "  'Chaos Engineering': 'observability_and_analysis_chaos_engineering',\n",
       "  'Continuous Optimization': 'observability_and_analysis_continuous_optimization'},\n",
       " 'Special': {'Kubernetes Certified Service Provider': 'special_kubernetes_certified_service_provider',\n",
       "  'Kubernetes Training Partner': 'special_kubernetes_training_partner',\n",
       "  'Certified CNFs': 'special_certified_cnfs'},\n",
       " 'CNCF Members': {'Platinum': 'cncf_members_platinum',\n",
       "  'Gold': 'cncf_members_gold',\n",
       "  'Silver': 'cncf_members_silver',\n",
       "  'Academic': 'cncf_members_academic',\n",
       "  'Nonprofit': 'cncf_members_nonprofit',\n",
       "  'End User Supporter': 'cncf_members_end_user_supporter'},\n",
       " 'Wasm': {'Specifications': 'wasm_specifications',\n",
       "  'Runtime': 'wasm_runtime',\n",
       "  'Toolchain': 'wasm_toolchain',\n",
       "  'Packaging, Registries & Application Delivery': 'wasm_packaging_registries_application_delivery',\n",
       "  'Debugging and Observability': 'wasm_debugging_and_observability',\n",
       "  'Installable Platform': 'wasm_installable_platform'}}"
      ]
     },
     "execution_count": 7,
     "metadata": {},
     "output_type": "execute_result"
    }
   ],
   "source": [
    "categories = { c['name']: {sub['name']: make_path(c['name'], sub['name'])\n",
    "    for sub in c ['subcategories']} \n",
    "for c in landscape }\n",
    "\n",
    "categories"
   ]
  },
  {
   "cell_type": "code",
   "execution_count": 8,
   "metadata": {},
   "outputs": [],
   "source": [
    "with open(\"../data/category_index.yaml\", 'w+') as file:\n",
    "    documents = yaml.dump(categories, file)"
   ]
  },
  {
   "cell_type": "code",
   "execution_count": 10,
   "metadata": {},
   "outputs": [],
   "source": [
    "items = { c['name']: {sub['name']: [item['name']\n",
    "        for item in sub['items']]\n",
    "    for sub in c['subcategories']} \n",
    "for c in landscape }"
   ]
  },
  {
   "cell_type": "code",
   "execution_count": 11,
   "metadata": {},
   "outputs": [],
   "source": [
    "with open(\"../data/category_item_index.yaml\", 'w+') as file:\n",
    "    documents = yaml.dump(items, file)"
   ]
  },
  {
   "cell_type": "markdown",
   "metadata": {},
   "source": [
    "## A-to-Z split of the landscape"
   ]
  },
  {
   "cell_type": "code",
   "execution_count": 9,
   "metadata": {},
   "outputs": [],
   "source": [
    "def get_only_letter(x: str, landscape: list):\n",
    "    \"\"\"Give os the letter we want, not best performance but does the job\"\"\"\n",
    "    return { make_path(c['name'], sub['name']): [item\n",
    "            for item in sub['items'] if item['name'].startswith(x)]\n",
    "        for c in landscape for sub in c['subcategories']}"
   ]
  },
  {
   "cell_type": "code",
   "execution_count": 42,
   "metadata": {},
   "outputs": [],
   "source": [
    "for letter in range(ord('A'), ord('Z')+1):\n",
    "    index = letter - ord('A')\n",
    "    partial = get_only_letter(chr(letter), landscape)\n",
    "\n",
    "    for key in partial:\n",
    "        \n",
    "        path = Path(f'../data/week_{str(index).zfill(2)}_{chr(letter)}')\n",
    "        path.mkdir(parents=True, exist_ok=True)\n",
    "        path = path.joinpath(f\"{key}.yaml\")\n",
    "\n",
    "        with open(path, 'w+') as file:\n",
    "            documents = yaml.dump(partial[key], file)\n"
   ]
  },
  {
   "cell_type": "code",
   "execution_count": null,
   "metadata": {},
   "outputs": [],
   "source": []
  }
 ],
 "metadata": {
  "kernelspec": {
   "display_name": "Python 3.8.13 64-bit ('3.8.13')",
   "language": "python",
   "name": "python3"
  },
  "language_info": {
   "codemirror_mode": {
    "name": "ipython",
    "version": 3
   },
   "file_extension": ".py",
   "mimetype": "text/x-python",
   "name": "python",
   "nbconvert_exporter": "python",
   "pygments_lexer": "ipython3",
   "version": "3.8.13"
  },
  "orig_nbformat": 4,
  "vscode": {
   "interpreter": {
    "hash": "110cc1dee26208153f2972f08a2ad52b6a56238dc66d48e87fb757ef2996db56"
   }
  }
 },
 "nbformat": 4,
 "nbformat_minor": 2
}
