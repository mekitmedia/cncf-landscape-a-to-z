{
 "cells": [
  {
   "cell_type": "code",
   "execution_count": 1,
   "metadata": {},
   "outputs": [],
   "source": [
    "import yaml\n",
    "import requests"
   ]
  },
  {
   "cell_type": "markdown",
   "metadata": {},
   "source": [
    "## Getting the data\n",
    "\n",
    "Simply loading the data from the repo and load the yaml in memory. There are two version of the landscape. One light version with the crunchbase link and one with all the data extracted."
   ]
  },
  {
   "cell_type": "code",
   "execution_count": 2,
   "metadata": {},
   "outputs": [],
   "source": [
    "landscape_raw = requests.get(\"https://raw.githubusercontent.com/cncf/landscape/master/processed_landscape.yml\")"
   ]
  },
  {
   "cell_type": "code",
   "execution_count": 3,
   "metadata": {},
   "outputs": [],
   "source": [
    "landscape = yaml.safe_load(landscape_raw.content)['landscape']"
   ]
  },
  {
   "cell_type": "markdown",
   "metadata": {},
   "source": [
    "## Parsing the categories"
   ]
  },
  {
   "cell_type": "code",
   "execution_count": 4,
   "metadata": {},
   "outputs": [
    {
     "data": {
      "text/plain": [
       "{'Provisioning': ['Automation & Configuration',\n",
       "  'Container Registry',\n",
       "  'Security & Compliance',\n",
       "  'Key Management'],\n",
       " 'Runtime': ['Cloud Native Storage',\n",
       "  'Container Runtime',\n",
       "  'Cloud Native Network'],\n",
       " 'Orchestration & Management': ['Scheduling & Orchestration',\n",
       "  'Coordination & Service Discovery',\n",
       "  'Remote Procedure Call',\n",
       "  'Service Proxy',\n",
       "  'API Gateway',\n",
       "  'Service Mesh'],\n",
       " 'App Definition and Development': ['Database',\n",
       "  'Streaming & Messaging',\n",
       "  'Application Definition & Image Build',\n",
       "  'Continuous Integration & Delivery'],\n",
       " 'Platform': ['Certified Kubernetes - Distribution',\n",
       "  'Certified Kubernetes - Hosted',\n",
       "  'Certified Kubernetes - Installer',\n",
       "  'PaaS/Container Service'],\n",
       " 'Serverless': ['Security',\n",
       "  'Tools',\n",
       "  'Framework',\n",
       "  'Hosted Platform',\n",
       "  'Installable Platform'],\n",
       " 'Observability and Analysis': ['Monitoring',\n",
       "  'Logging',\n",
       "  'Tracing',\n",
       "  'Chaos Engineering',\n",
       "  'Continuous Optimization'],\n",
       " 'Special': ['Kubernetes Certified Service Provider',\n",
       "  'Kubernetes Training Partner',\n",
       "  'Certified CNFs'],\n",
       " 'CNCF Members': ['Platinum',\n",
       "  'Gold',\n",
       "  'Silver',\n",
       "  'Academic',\n",
       "  'Nonprofit',\n",
       "  'End User Supporter'],\n",
       " 'Wasm': ['Specifications',\n",
       "  'Runtime',\n",
       "  'Toolchain',\n",
       "  'Packaging, Registries & Application Delivery',\n",
       "  'Debugging and Observability',\n",
       "  'Installable Platform']}"
      ]
     },
     "execution_count": 4,
     "metadata": {},
     "output_type": "execute_result"
    }
   ],
   "source": [
    "categories = { c['name']: [sub['name'] \n",
    "    for sub in c ['subcategories']] \n",
    "for c in landscape }\n",
    "\n",
    "categories"
   ]
  },
  {
   "cell_type": "markdown",
   "metadata": {},
   "source": [
    "## A-to-Z split of the landscape"
   ]
  },
  {
   "cell_type": "code",
   "execution_count": 5,
   "metadata": {},
   "outputs": [],
   "source": [
    "def get_only_letter(x: str, landscape: list):\n",
    "    return { c['name']: { sub['name']: [item\n",
    "            for item in sub['items'] if item['name'].startswith(x)]\n",
    "        for sub in c ['subcategories']}\n",
    "    for c in landscape }"
   ]
  },
  {
   "cell_type": "code",
   "execution_count": 6,
   "metadata": {},
   "outputs": [],
   "source": [
    "for letter in range(ord('A'), ord('Z')+1):\n",
    "    index = letter - ord('A')\n",
    "    patial = get_only_letter(chr(letter), landscape)\n",
    "\n",
    "    with open(f'../data/week_{str(index).zfill(2)}_{chr(letter)}.yaml', 'w+') as file:\n",
    "        documents = yaml.dump(patial, file)\n"
   ]
  },
  {
   "cell_type": "code",
   "execution_count": null,
   "metadata": {},
   "outputs": [],
   "source": []
  }
 ],
 "metadata": {
  "kernelspec": {
   "display_name": "Python 3.8.13 64-bit ('3.8.13')",
   "language": "python",
   "name": "python3"
  },
  "language_info": {
   "codemirror_mode": {
    "name": "ipython",
    "version": 3
   },
   "file_extension": ".py",
   "mimetype": "text/x-python",
   "name": "python",
   "nbconvert_exporter": "python",
   "pygments_lexer": "ipython3",
   "version": "3.8.13"
  },
  "orig_nbformat": 4,
  "vscode": {
   "interpreter": {
    "hash": "110cc1dee26208153f2972f08a2ad52b6a56238dc66d48e87fb757ef2996db56"
   }
  }
 },
 "nbformat": 4,
 "nbformat_minor": 2
}
